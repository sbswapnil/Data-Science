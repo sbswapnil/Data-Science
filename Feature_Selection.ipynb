{
 "cells": [
  {
   "cell_type": "code",
   "execution_count": null,
   "metadata": {
    "id": "acPpLjFQs6vg"
   },
   "outputs": [],
   "source": [
    "import numpy as np\n",
    "import pandas as pd\n",
    "import matplotlib.pyplot as plt\n",
    "import seaborn as sns\n",
    "%matplotlib inline\n"
   ]
  },
  {
   "cell_type": "code",
   "execution_count": 1,
   "metadata": {},
   "outputs": [
    {
     "name": "stdout",
     "output_type": "stream",
     "text": [
      "Requirement already satisfied: nbconvert in c:\\users\\swapn\\anaconda3\\lib\\site-packages (5.6.1)\n",
      "Requirement already satisfied: entrypoints>=0.2.2 in c:\\users\\swapn\\anaconda3\\lib\\site-packages (from nbconvert) (0.3)\n",
      "Requirement already satisfied: jupyter-core in c:\\users\\swapn\\anaconda3\\lib\\site-packages (from nbconvert) (4.6.1)\n",
      "Requirement already satisfied: traitlets>=4.2 in c:\\users\\swapn\\anaconda3\\lib\\site-packages (from nbconvert) (4.3.3)\n",
      "Requirement already satisfied: pygments in c:\\users\\swapn\\anaconda3\\lib\\site-packages (from nbconvert) (2.5.2)\n",
      "Requirement already satisfied: jinja2>=2.4 in c:\\users\\swapn\\anaconda3\\lib\\site-packages (from nbconvert) (2.11.1)\n",
      "Requirement already satisfied: testpath in c:\\users\\swapn\\anaconda3\\lib\\site-packages (from nbconvert) (0.4.4)\n",
      "Requirement already satisfied: mistune<2,>=0.8.1 in c:\\users\\swapn\\anaconda3\\lib\\site-packages (from nbconvert) (0.8.4)\n",
      "Requirement already satisfied: bleach in c:\\users\\swapn\\anaconda3\\lib\\site-packages (from nbconvert) (3.1.0)\n",
      "Requirement already satisfied: pandocfilters>=1.4.1 in c:\\users\\swapn\\anaconda3\\lib\\site-packages (from nbconvert) (1.4.2)\n",
      "Requirement already satisfied: nbformat>=4.4 in c:\\users\\swapn\\anaconda3\\lib\\site-packages (from nbconvert) (5.0.4)\n",
      "Requirement already satisfied: defusedxml in c:\\users\\swapn\\anaconda3\\lib\\site-packages (from nbconvert) (0.6.0)\n",
      "Requirement already satisfied: pywin32>=1.0; sys_platform == \"win32\" in c:\\users\\swapn\\anaconda3\\lib\\site-packages (from jupyter-core->nbconvert) (227)\n",
      "Requirement already satisfied: ipython-genutils in c:\\users\\swapn\\anaconda3\\lib\\site-packages (from traitlets>=4.2->nbconvert) (0.2.0)\n",
      "Requirement already satisfied: decorator in c:\\users\\swapn\\anaconda3\\lib\\site-packages (from traitlets>=4.2->nbconvert) (4.4.1)\n",
      "Requirement already satisfied: six in c:\\users\\swapn\\anaconda3\\lib\\site-packages (from traitlets>=4.2->nbconvert) (1.14.0)\n",
      "Requirement already satisfied: MarkupSafe>=0.23 in c:\\users\\swapn\\anaconda3\\lib\\site-packages (from jinja2>=2.4->nbconvert) (1.1.1)\n",
      "Requirement already satisfied: webencodings in c:\\users\\swapn\\anaconda3\\lib\\site-packages (from bleach->nbconvert) (0.5.1)\n",
      "Requirement already satisfied: jsonschema!=2.5.0,>=2.4 in c:\\users\\swapn\\anaconda3\\lib\\site-packages (from nbformat>=4.4->nbconvert) (3.2.0)\n",
      "Requirement already satisfied: setuptools in c:\\users\\swapn\\anaconda3\\lib\\site-packages (from jsonschema!=2.5.0,>=2.4->nbformat>=4.4->nbconvert) (45.2.0.post20200210)\n",
      "Requirement already satisfied: importlib-metadata; python_version < \"3.8\" in c:\\users\\swapn\\anaconda3\\lib\\site-packages (from jsonschema!=2.5.0,>=2.4->nbformat>=4.4->nbconvert) (1.5.0)\n",
      "Requirement already satisfied: attrs>=17.4.0 in c:\\users\\swapn\\anaconda3\\lib\\site-packages (from jsonschema!=2.5.0,>=2.4->nbformat>=4.4->nbconvert) (19.3.0)\n",
      "Requirement already satisfied: pyrsistent>=0.14.0 in c:\\users\\swapn\\anaconda3\\lib\\site-packages (from jsonschema!=2.5.0,>=2.4->nbformat>=4.4->nbconvert) (0.15.7)\n",
      "Requirement already satisfied: zipp>=0.5 in c:\\users\\swapn\\anaconda3\\lib\\site-packages (from importlib-metadata; python_version < \"3.8\"->jsonschema!=2.5.0,>=2.4->nbformat>=4.4->nbconvert) (2.2.0)\n"
     ]
    }
   ],
   "source": [
    "!pip install nbconvert"
   ]
  },
  {
   "cell_type": "code",
   "execution_count": null,
   "metadata": {
    "id": "45DN_in0tMKM"
   },
   "outputs": [],
   "source": [
    "data = pd.DataFrame({\n",
    "    'A':[1,2,3,4,5],\n",
    "    'B':[1,2,3,4,5],\n",
    "    'C':[1,1,1,1,1],\n",
    "    'D':[0,0,0,0,0],\n",
    "})"
   ]
  },
  {
   "cell_type": "code",
   "execution_count": null,
   "metadata": {
    "colab": {
     "base_uri": "https://localhost:8080/",
     "height": 195
    },
    "id": "5t3nDxMb70fh",
    "outputId": "3f5f6bd6-e04b-460c-c7ce-519e70bf327c"
   },
   "outputs": [
    {
     "data": {
      "text/html": [
       "<div>\n",
       "<style scoped>\n",
       "    .dataframe tbody tr th:only-of-type {\n",
       "        vertical-align: middle;\n",
       "    }\n",
       "\n",
       "    .dataframe tbody tr th {\n",
       "        vertical-align: top;\n",
       "    }\n",
       "\n",
       "    .dataframe thead th {\n",
       "        text-align: right;\n",
       "    }\n",
       "</style>\n",
       "<table border=\"1\" class=\"dataframe\">\n",
       "  <thead>\n",
       "    <tr style=\"text-align: right;\">\n",
       "      <th></th>\n",
       "      <th>A</th>\n",
       "      <th>B</th>\n",
       "      <th>C</th>\n",
       "      <th>D</th>\n",
       "    </tr>\n",
       "  </thead>\n",
       "  <tbody>\n",
       "    <tr>\n",
       "      <th>0</th>\n",
       "      <td>1</td>\n",
       "      <td>1</td>\n",
       "      <td>1</td>\n",
       "      <td>0</td>\n",
       "    </tr>\n",
       "    <tr>\n",
       "      <th>1</th>\n",
       "      <td>2</td>\n",
       "      <td>2</td>\n",
       "      <td>1</td>\n",
       "      <td>0</td>\n",
       "    </tr>\n",
       "    <tr>\n",
       "      <th>2</th>\n",
       "      <td>3</td>\n",
       "      <td>3</td>\n",
       "      <td>1</td>\n",
       "      <td>0</td>\n",
       "    </tr>\n",
       "    <tr>\n",
       "      <th>3</th>\n",
       "      <td>4</td>\n",
       "      <td>4</td>\n",
       "      <td>1</td>\n",
       "      <td>0</td>\n",
       "    </tr>\n",
       "    <tr>\n",
       "      <th>4</th>\n",
       "      <td>5</td>\n",
       "      <td>5</td>\n",
       "      <td>1</td>\n",
       "      <td>0</td>\n",
       "    </tr>\n",
       "  </tbody>\n",
       "</table>\n",
       "</div>"
      ],
      "text/plain": [
       "   A  B  C  D\n",
       "0  1  1  1  0\n",
       "1  2  2  1  0\n",
       "2  3  3  1  0\n",
       "3  4  4  1  0\n",
       "4  5  5  1  0"
      ]
     },
     "execution_count": 3,
     "metadata": {
      "tags": []
     },
     "output_type": "execute_result"
    }
   ],
   "source": [
    "data.head()"
   ]
  },
  {
   "cell_type": "markdown",
   "metadata": {
    "id": "JM9etZWaZuG6"
   },
   "source": [
    "# 1) Varience Threshold\n",
    "\n",
    "*   **Varience Threshold** that removes all low-variance features.\n",
    "\n"
   ]
  },
  {
   "cell_type": "code",
   "execution_count": null,
   "metadata": {
    "colab": {
     "base_uri": "https://localhost:8080/"
    },
    "id": "mehZ1McY71-k",
    "outputId": "011544a8-100d-4789-8894-84fe2ff38cda"
   },
   "outputs": [
    {
     "data": {
      "text/plain": [
       "VarianceThreshold(threshold=0.2)"
      ]
     },
     "execution_count": 21,
     "metadata": {
      "tags": []
     },
     "output_type": "execute_result"
    }
   ],
   "source": [
    "from sklearn.feature_selection import VarianceThreshold, f_\n",
    "\n",
    "var_thr = VarianceThreshold(threshold=0.2)\n",
    "var_thr.fit(data)"
   ]
  },
  {
   "cell_type": "code",
   "execution_count": null,
   "metadata": {
    "id": "vsTa0Gec8OLL"
   },
   "outputs": [],
   "source": [
    "cols = var_thr.get_support()"
   ]
  },
  {
   "cell_type": "code",
   "execution_count": null,
   "metadata": {
    "colab": {
     "base_uri": "https://localhost:8080/"
    },
    "id": "uKFXC4kASvnS",
    "outputId": "afafcfc8-130e-45ab-fc03-9a7a5b06ae71"
   },
   "outputs": [
    {
     "data": {
      "text/plain": [
       "array([False, False,  True,  True])"
      ]
     },
     "execution_count": 23,
     "metadata": {
      "tags": []
     },
     "output_type": "execute_result"
    }
   ],
   "source": [
    "~cols"
   ]
  },
  {
   "cell_type": "code",
   "execution_count": null,
   "metadata": {
    "colab": {
     "base_uri": "https://localhost:8080/"
    },
    "id": "mCzbj3_T82r4",
    "outputId": "c398f76c-8b6f-41d7-ad9f-53bc916db2f4"
   },
   "outputs": [
    {
     "data": {
      "text/plain": [
       "{'C', 'D'}"
      ]
     },
     "execution_count": 6,
     "metadata": {
      "tags": []
     },
     "output_type": "execute_result"
    }
   ],
   "source": [
    "a = set(data.columns)-set(data.columns[cols])\n",
    "a"
   ]
  },
  {
   "cell_type": "code",
   "execution_count": null,
   "metadata": {
    "id": "FYcDNE-O8TGM"
   },
   "outputs": [],
   "source": [
    "# data.drop(a, axis=1, inplace=True)"
   ]
  },
  {
   "cell_type": "code",
   "execution_count": null,
   "metadata": {
    "colab": {
     "base_uri": "https://localhost:8080/",
     "height": 195
    },
    "id": "66449KfH8bMO",
    "outputId": "dbdc38b7-4990-451d-9801-40f2bdeb536a"
   },
   "outputs": [
    {
     "data": {
      "text/html": [
       "<div>\n",
       "<style scoped>\n",
       "    .dataframe tbody tr th:only-of-type {\n",
       "        vertical-align: middle;\n",
       "    }\n",
       "\n",
       "    .dataframe tbody tr th {\n",
       "        vertical-align: top;\n",
       "    }\n",
       "\n",
       "    .dataframe thead th {\n",
       "        text-align: right;\n",
       "    }\n",
       "</style>\n",
       "<table border=\"1\" class=\"dataframe\">\n",
       "  <thead>\n",
       "    <tr style=\"text-align: right;\">\n",
       "      <th></th>\n",
       "      <th>A</th>\n",
       "      <th>B</th>\n",
       "      <th>C</th>\n",
       "      <th>D</th>\n",
       "    </tr>\n",
       "  </thead>\n",
       "  <tbody>\n",
       "    <tr>\n",
       "      <th>0</th>\n",
       "      <td>1</td>\n",
       "      <td>1</td>\n",
       "      <td>1</td>\n",
       "      <td>0</td>\n",
       "    </tr>\n",
       "    <tr>\n",
       "      <th>1</th>\n",
       "      <td>2</td>\n",
       "      <td>2</td>\n",
       "      <td>1</td>\n",
       "      <td>0</td>\n",
       "    </tr>\n",
       "    <tr>\n",
       "      <th>2</th>\n",
       "      <td>3</td>\n",
       "      <td>3</td>\n",
       "      <td>1</td>\n",
       "      <td>0</td>\n",
       "    </tr>\n",
       "    <tr>\n",
       "      <th>3</th>\n",
       "      <td>4</td>\n",
       "      <td>4</td>\n",
       "      <td>1</td>\n",
       "      <td>0</td>\n",
       "    </tr>\n",
       "    <tr>\n",
       "      <th>4</th>\n",
       "      <td>5</td>\n",
       "      <td>5</td>\n",
       "      <td>1</td>\n",
       "      <td>0</td>\n",
       "    </tr>\n",
       "  </tbody>\n",
       "</table>\n",
       "</div>"
      ],
      "text/plain": [
       "   A  B  C  D\n",
       "0  1  1  1  0\n",
       "1  2  2  1  0\n",
       "2  3  3  1  0\n",
       "3  4  4  1  0\n",
       "4  5  5  1  0"
      ]
     },
     "execution_count": 8,
     "metadata": {
      "tags": []
     },
     "output_type": "execute_result"
    }
   ],
   "source": [
    "data.head()"
   ]
  },
  {
   "cell_type": "code",
   "execution_count": null,
   "metadata": {
    "colab": {
     "base_uri": "https://localhost:8080/"
    },
    "id": "ToF6QF6S9T70",
    "outputId": "5a6dc535-6268-4536-ea7d-0c381bce84cf"
   },
   "outputs": [
    {
     "data": {
      "text/plain": [
       "array([[1, 1],\n",
       "       [2, 2],\n",
       "       [3, 3],\n",
       "       [4, 4],\n",
       "       [5, 5]])"
      ]
     },
     "execution_count": 9,
     "metadata": {
      "tags": []
     },
     "output_type": "execute_result"
    }
   ],
   "source": [
    "var_thr.fit_transform(data)"
   ]
  },
  {
   "cell_type": "markdown",
   "metadata": {
    "id": "tsPPXzYhbNAz"
   },
   "source": [
    "# 2) With Correlation"
   ]
  },
  {
   "cell_type": "code",
   "execution_count": null,
   "metadata": {
    "id": "kuOhb4c7cSWD"
   },
   "outputs": [],
   "source": [
    "from sklearn.datasets import load_boston\n",
    "data_ = load_boston()\n"
   ]
  },
  {
   "cell_type": "code",
   "execution_count": null,
   "metadata": {
    "id": "IXvmiXTccsOa"
   },
   "outputs": [],
   "source": [
    "X = pd.DataFrame(data_.data, columns=data_.feature_names)\n",
    "y = pd.DataFrame(data_.target, columns=['out'])"
   ]
  },
  {
   "cell_type": "code",
   "execution_count": null,
   "metadata": {
    "colab": {
     "base_uri": "https://localhost:8080/",
     "height": 195
    },
    "id": "eCfowlGtc9AK",
    "outputId": "af413074-248a-4386-fe42-704a6b9c2f53"
   },
   "outputs": [
    {
     "data": {
      "text/html": [
       "<div>\n",
       "<style scoped>\n",
       "    .dataframe tbody tr th:only-of-type {\n",
       "        vertical-align: middle;\n",
       "    }\n",
       "\n",
       "    .dataframe tbody tr th {\n",
       "        vertical-align: top;\n",
       "    }\n",
       "\n",
       "    .dataframe thead th {\n",
       "        text-align: right;\n",
       "    }\n",
       "</style>\n",
       "<table border=\"1\" class=\"dataframe\">\n",
       "  <thead>\n",
       "    <tr style=\"text-align: right;\">\n",
       "      <th></th>\n",
       "      <th>CRIM</th>\n",
       "      <th>ZN</th>\n",
       "      <th>INDUS</th>\n",
       "      <th>CHAS</th>\n",
       "      <th>NOX</th>\n",
       "      <th>RM</th>\n",
       "      <th>AGE</th>\n",
       "      <th>DIS</th>\n",
       "      <th>RAD</th>\n",
       "      <th>TAX</th>\n",
       "      <th>PTRATIO</th>\n",
       "      <th>B</th>\n",
       "      <th>LSTAT</th>\n",
       "    </tr>\n",
       "  </thead>\n",
       "  <tbody>\n",
       "    <tr>\n",
       "      <th>0</th>\n",
       "      <td>0.00632</td>\n",
       "      <td>18.0</td>\n",
       "      <td>2.31</td>\n",
       "      <td>0.0</td>\n",
       "      <td>0.538</td>\n",
       "      <td>6.575</td>\n",
       "      <td>65.2</td>\n",
       "      <td>4.0900</td>\n",
       "      <td>1.0</td>\n",
       "      <td>296.0</td>\n",
       "      <td>15.3</td>\n",
       "      <td>396.90</td>\n",
       "      <td>4.98</td>\n",
       "    </tr>\n",
       "    <tr>\n",
       "      <th>1</th>\n",
       "      <td>0.02731</td>\n",
       "      <td>0.0</td>\n",
       "      <td>7.07</td>\n",
       "      <td>0.0</td>\n",
       "      <td>0.469</td>\n",
       "      <td>6.421</td>\n",
       "      <td>78.9</td>\n",
       "      <td>4.9671</td>\n",
       "      <td>2.0</td>\n",
       "      <td>242.0</td>\n",
       "      <td>17.8</td>\n",
       "      <td>396.90</td>\n",
       "      <td>9.14</td>\n",
       "    </tr>\n",
       "    <tr>\n",
       "      <th>2</th>\n",
       "      <td>0.02729</td>\n",
       "      <td>0.0</td>\n",
       "      <td>7.07</td>\n",
       "      <td>0.0</td>\n",
       "      <td>0.469</td>\n",
       "      <td>7.185</td>\n",
       "      <td>61.1</td>\n",
       "      <td>4.9671</td>\n",
       "      <td>2.0</td>\n",
       "      <td>242.0</td>\n",
       "      <td>17.8</td>\n",
       "      <td>392.83</td>\n",
       "      <td>4.03</td>\n",
       "    </tr>\n",
       "    <tr>\n",
       "      <th>3</th>\n",
       "      <td>0.03237</td>\n",
       "      <td>0.0</td>\n",
       "      <td>2.18</td>\n",
       "      <td>0.0</td>\n",
       "      <td>0.458</td>\n",
       "      <td>6.998</td>\n",
       "      <td>45.8</td>\n",
       "      <td>6.0622</td>\n",
       "      <td>3.0</td>\n",
       "      <td>222.0</td>\n",
       "      <td>18.7</td>\n",
       "      <td>394.63</td>\n",
       "      <td>2.94</td>\n",
       "    </tr>\n",
       "    <tr>\n",
       "      <th>4</th>\n",
       "      <td>0.06905</td>\n",
       "      <td>0.0</td>\n",
       "      <td>2.18</td>\n",
       "      <td>0.0</td>\n",
       "      <td>0.458</td>\n",
       "      <td>7.147</td>\n",
       "      <td>54.2</td>\n",
       "      <td>6.0622</td>\n",
       "      <td>3.0</td>\n",
       "      <td>222.0</td>\n",
       "      <td>18.7</td>\n",
       "      <td>396.90</td>\n",
       "      <td>5.33</td>\n",
       "    </tr>\n",
       "  </tbody>\n",
       "</table>\n",
       "</div>"
      ],
      "text/plain": [
       "      CRIM    ZN  INDUS  CHAS    NOX  ...  RAD    TAX  PTRATIO       B  LSTAT\n",
       "0  0.00632  18.0   2.31   0.0  0.538  ...  1.0  296.0     15.3  396.90   4.98\n",
       "1  0.02731   0.0   7.07   0.0  0.469  ...  2.0  242.0     17.8  396.90   9.14\n",
       "2  0.02729   0.0   7.07   0.0  0.469  ...  2.0  242.0     17.8  392.83   4.03\n",
       "3  0.03237   0.0   2.18   0.0  0.458  ...  3.0  222.0     18.7  394.63   2.94\n",
       "4  0.06905   0.0   2.18   0.0  0.458  ...  3.0  222.0     18.7  396.90   5.33\n",
       "\n",
       "[5 rows x 13 columns]"
      ]
     },
     "execution_count": 12,
     "metadata": {
      "tags": []
     },
     "output_type": "execute_result"
    }
   ],
   "source": [
    "X.head()"
   ]
  },
  {
   "cell_type": "code",
   "execution_count": null,
   "metadata": {
    "colab": {
     "base_uri": "https://localhost:8080/",
     "height": 195
    },
    "id": "14HMHFLTfj9V",
    "outputId": "13b1104b-960d-43e5-e2d5-3ce0cf76fcf5"
   },
   "outputs": [
    {
     "data": {
      "text/html": [
       "<div>\n",
       "<style scoped>\n",
       "    .dataframe tbody tr th:only-of-type {\n",
       "        vertical-align: middle;\n",
       "    }\n",
       "\n",
       "    .dataframe tbody tr th {\n",
       "        vertical-align: top;\n",
       "    }\n",
       "\n",
       "    .dataframe thead th {\n",
       "        text-align: right;\n",
       "    }\n",
       "</style>\n",
       "<table border=\"1\" class=\"dataframe\">\n",
       "  <thead>\n",
       "    <tr style=\"text-align: right;\">\n",
       "      <th></th>\n",
       "      <th>out</th>\n",
       "    </tr>\n",
       "  </thead>\n",
       "  <tbody>\n",
       "    <tr>\n",
       "      <th>0</th>\n",
       "      <td>24.0</td>\n",
       "    </tr>\n",
       "    <tr>\n",
       "      <th>1</th>\n",
       "      <td>21.6</td>\n",
       "    </tr>\n",
       "    <tr>\n",
       "      <th>2</th>\n",
       "      <td>34.7</td>\n",
       "    </tr>\n",
       "    <tr>\n",
       "      <th>3</th>\n",
       "      <td>33.4</td>\n",
       "    </tr>\n",
       "    <tr>\n",
       "      <th>4</th>\n",
       "      <td>36.2</td>\n",
       "    </tr>\n",
       "  </tbody>\n",
       "</table>\n",
       "</div>"
      ],
      "text/plain": [
       "    out\n",
       "0  24.0\n",
       "1  21.6\n",
       "2  34.7\n",
       "3  33.4\n",
       "4  36.2"
      ]
     },
     "execution_count": 13,
     "metadata": {
      "tags": []
     },
     "output_type": "execute_result"
    }
   ],
   "source": [
    "y.head()"
   ]
  },
  {
   "cell_type": "code",
   "execution_count": null,
   "metadata": {
    "id": "cBiE6TBtfUMi"
   },
   "outputs": [],
   "source": []
  },
  {
   "cell_type": "code",
   "execution_count": null,
   "metadata": {
    "id": "oNejwTmqdFZx"
   },
   "outputs": [],
   "source": [
    "from sklearn.model_selection import train_test_split\n",
    "X_train, X_test, y_train, y_test = train_test_split(X, y, test_size=0.3, random_state=42)"
   ]
  },
  {
   "cell_type": "code",
   "execution_count": null,
   "metadata": {
    "colab": {
     "base_uri": "https://localhost:8080/"
    },
    "id": "-Jc8JMn1hfIA",
    "outputId": "58e2d9ab-84ed-49e2-9c8a-ea327ff0bb44"
   },
   "outputs": [
    {
     "data": {
      "text/plain": [
       "((354, 13), (152, 13))"
      ]
     },
     "execution_count": 15,
     "metadata": {
      "tags": []
     },
     "output_type": "execute_result"
    }
   ],
   "source": [
    "X_train.shape, X_test.shape"
   ]
  },
  {
   "cell_type": "code",
   "execution_count": null,
   "metadata": {
    "colab": {
     "base_uri": "https://localhost:8080/",
     "height": 432
    },
    "id": "p4qch-peg1I_",
    "outputId": "4b1062a1-97dc-4b3d-b872-e43df86b8e5c"
   },
   "outputs": [
    {
     "data": {
      "text/html": [
       "<div>\n",
       "<style scoped>\n",
       "    .dataframe tbody tr th:only-of-type {\n",
       "        vertical-align: middle;\n",
       "    }\n",
       "\n",
       "    .dataframe tbody tr th {\n",
       "        vertical-align: top;\n",
       "    }\n",
       "\n",
       "    .dataframe thead th {\n",
       "        text-align: right;\n",
       "    }\n",
       "</style>\n",
       "<table border=\"1\" class=\"dataframe\">\n",
       "  <thead>\n",
       "    <tr style=\"text-align: right;\">\n",
       "      <th></th>\n",
       "      <th>CRIM</th>\n",
       "      <th>ZN</th>\n",
       "      <th>INDUS</th>\n",
       "      <th>CHAS</th>\n",
       "      <th>NOX</th>\n",
       "      <th>RM</th>\n",
       "      <th>AGE</th>\n",
       "      <th>DIS</th>\n",
       "      <th>RAD</th>\n",
       "      <th>TAX</th>\n",
       "      <th>PTRATIO</th>\n",
       "      <th>B</th>\n",
       "      <th>LSTAT</th>\n",
       "    </tr>\n",
       "  </thead>\n",
       "  <tbody>\n",
       "    <tr>\n",
       "      <th>CRIM</th>\n",
       "      <td>1.000000</td>\n",
       "      <td>-0.205413</td>\n",
       "      <td>0.399643</td>\n",
       "      <td>-0.041852</td>\n",
       "      <td>0.402031</td>\n",
       "      <td>-0.210556</td>\n",
       "      <td>0.336697</td>\n",
       "      <td>-0.371149</td>\n",
       "      <td>0.622745</td>\n",
       "      <td>0.582164</td>\n",
       "      <td>0.296443</td>\n",
       "      <td>-0.304734</td>\n",
       "      <td>0.409681</td>\n",
       "    </tr>\n",
       "    <tr>\n",
       "      <th>ZN</th>\n",
       "      <td>-0.205413</td>\n",
       "      <td>1.000000</td>\n",
       "      <td>-0.544907</td>\n",
       "      <td>-0.031898</td>\n",
       "      <td>-0.527921</td>\n",
       "      <td>0.299282</td>\n",
       "      <td>-0.583271</td>\n",
       "      <td>0.672752</td>\n",
       "      <td>-0.318947</td>\n",
       "      <td>-0.306276</td>\n",
       "      <td>-0.375349</td>\n",
       "      <td>0.172134</td>\n",
       "      <td>-0.393315</td>\n",
       "    </tr>\n",
       "    <tr>\n",
       "      <th>INDUS</th>\n",
       "      <td>0.399643</td>\n",
       "      <td>-0.544907</td>\n",
       "      <td>1.000000</td>\n",
       "      <td>0.074533</td>\n",
       "      <td>0.764135</td>\n",
       "      <td>-0.407417</td>\n",
       "      <td>0.635749</td>\n",
       "      <td>-0.700550</td>\n",
       "      <td>0.579284</td>\n",
       "      <td>0.702541</td>\n",
       "      <td>0.362794</td>\n",
       "      <td>-0.333391</td>\n",
       "      <td>0.578976</td>\n",
       "    </tr>\n",
       "    <tr>\n",
       "      <th>CHAS</th>\n",
       "      <td>-0.041852</td>\n",
       "      <td>-0.031898</td>\n",
       "      <td>0.074533</td>\n",
       "      <td>1.000000</td>\n",
       "      <td>0.100199</td>\n",
       "      <td>0.139175</td>\n",
       "      <td>0.083140</td>\n",
       "      <td>-0.110392</td>\n",
       "      <td>0.047212</td>\n",
       "      <td>0.012041</td>\n",
       "      <td>-0.087582</td>\n",
       "      <td>0.071473</td>\n",
       "      <td>-0.103874</td>\n",
       "    </tr>\n",
       "    <tr>\n",
       "      <th>NOX</th>\n",
       "      <td>0.402031</td>\n",
       "      <td>-0.527921</td>\n",
       "      <td>0.764135</td>\n",
       "      <td>0.100199</td>\n",
       "      <td>1.000000</td>\n",
       "      <td>-0.305756</td>\n",
       "      <td>0.733034</td>\n",
       "      <td>-0.775599</td>\n",
       "      <td>0.595620</td>\n",
       "      <td>0.655932</td>\n",
       "      <td>0.169297</td>\n",
       "      <td>-0.339474</td>\n",
       "      <td>0.581960</td>\n",
       "    </tr>\n",
       "    <tr>\n",
       "      <th>RM</th>\n",
       "      <td>-0.210556</td>\n",
       "      <td>0.299282</td>\n",
       "      <td>-0.407417</td>\n",
       "      <td>0.139175</td>\n",
       "      <td>-0.305756</td>\n",
       "      <td>1.000000</td>\n",
       "      <td>-0.227609</td>\n",
       "      <td>0.217510</td>\n",
       "      <td>-0.219261</td>\n",
       "      <td>-0.296173</td>\n",
       "      <td>-0.345720</td>\n",
       "      <td>0.122512</td>\n",
       "      <td>-0.618609</td>\n",
       "    </tr>\n",
       "    <tr>\n",
       "      <th>AGE</th>\n",
       "      <td>0.336697</td>\n",
       "      <td>-0.583271</td>\n",
       "      <td>0.635749</td>\n",
       "      <td>0.083140</td>\n",
       "      <td>0.733034</td>\n",
       "      <td>-0.227609</td>\n",
       "      <td>1.000000</td>\n",
       "      <td>-0.753570</td>\n",
       "      <td>0.425143</td>\n",
       "      <td>0.475100</td>\n",
       "      <td>0.230440</td>\n",
       "      <td>-0.248012</td>\n",
       "      <td>0.550824</td>\n",
       "    </tr>\n",
       "    <tr>\n",
       "      <th>DIS</th>\n",
       "      <td>-0.371149</td>\n",
       "      <td>0.672752</td>\n",
       "      <td>-0.700550</td>\n",
       "      <td>-0.110392</td>\n",
       "      <td>-0.775599</td>\n",
       "      <td>0.217510</td>\n",
       "      <td>-0.753570</td>\n",
       "      <td>1.000000</td>\n",
       "      <td>-0.476497</td>\n",
       "      <td>-0.523633</td>\n",
       "      <td>-0.218248</td>\n",
       "      <td>0.269588</td>\n",
       "      <td>-0.474187</td>\n",
       "    </tr>\n",
       "    <tr>\n",
       "      <th>RAD</th>\n",
       "      <td>0.622745</td>\n",
       "      <td>-0.318947</td>\n",
       "      <td>0.579284</td>\n",
       "      <td>0.047212</td>\n",
       "      <td>0.595620</td>\n",
       "      <td>-0.219261</td>\n",
       "      <td>0.425143</td>\n",
       "      <td>-0.476497</td>\n",
       "      <td>1.000000</td>\n",
       "      <td>0.909381</td>\n",
       "      <td>0.481114</td>\n",
       "      <td>-0.403437</td>\n",
       "      <td>0.473225</td>\n",
       "    </tr>\n",
       "    <tr>\n",
       "      <th>TAX</th>\n",
       "      <td>0.582164</td>\n",
       "      <td>-0.306276</td>\n",
       "      <td>0.702541</td>\n",
       "      <td>0.012041</td>\n",
       "      <td>0.655932</td>\n",
       "      <td>-0.296173</td>\n",
       "      <td>0.475100</td>\n",
       "      <td>-0.523633</td>\n",
       "      <td>0.909381</td>\n",
       "      <td>1.000000</td>\n",
       "      <td>0.465101</td>\n",
       "      <td>-0.407992</td>\n",
       "      <td>0.525003</td>\n",
       "    </tr>\n",
       "    <tr>\n",
       "      <th>PTRATIO</th>\n",
       "      <td>0.296443</td>\n",
       "      <td>-0.375349</td>\n",
       "      <td>0.362794</td>\n",
       "      <td>-0.087582</td>\n",
       "      <td>0.169297</td>\n",
       "      <td>-0.345720</td>\n",
       "      <td>0.230440</td>\n",
       "      <td>-0.218248</td>\n",
       "      <td>0.481114</td>\n",
       "      <td>0.465101</td>\n",
       "      <td>1.000000</td>\n",
       "      <td>-0.169999</td>\n",
       "      <td>0.361428</td>\n",
       "    </tr>\n",
       "    <tr>\n",
       "      <th>B</th>\n",
       "      <td>-0.304734</td>\n",
       "      <td>0.172134</td>\n",
       "      <td>-0.333391</td>\n",
       "      <td>0.071473</td>\n",
       "      <td>-0.339474</td>\n",
       "      <td>0.122512</td>\n",
       "      <td>-0.248012</td>\n",
       "      <td>0.269588</td>\n",
       "      <td>-0.403437</td>\n",
       "      <td>-0.407992</td>\n",
       "      <td>-0.169999</td>\n",
       "      <td>1.000000</td>\n",
       "      <td>-0.324208</td>\n",
       "    </tr>\n",
       "    <tr>\n",
       "      <th>LSTAT</th>\n",
       "      <td>0.409681</td>\n",
       "      <td>-0.393315</td>\n",
       "      <td>0.578976</td>\n",
       "      <td>-0.103874</td>\n",
       "      <td>0.581960</td>\n",
       "      <td>-0.618609</td>\n",
       "      <td>0.550824</td>\n",
       "      <td>-0.474187</td>\n",
       "      <td>0.473225</td>\n",
       "      <td>0.525003</td>\n",
       "      <td>0.361428</td>\n",
       "      <td>-0.324208</td>\n",
       "      <td>1.000000</td>\n",
       "    </tr>\n",
       "  </tbody>\n",
       "</table>\n",
       "</div>"
      ],
      "text/plain": [
       "             CRIM        ZN     INDUS  ...   PTRATIO         B     LSTAT\n",
       "CRIM     1.000000 -0.205413  0.399643  ...  0.296443 -0.304734  0.409681\n",
       "ZN      -0.205413  1.000000 -0.544907  ... -0.375349  0.172134 -0.393315\n",
       "INDUS    0.399643 -0.544907  1.000000  ...  0.362794 -0.333391  0.578976\n",
       "CHAS    -0.041852 -0.031898  0.074533  ... -0.087582  0.071473 -0.103874\n",
       "NOX      0.402031 -0.527921  0.764135  ...  0.169297 -0.339474  0.581960\n",
       "RM      -0.210556  0.299282 -0.407417  ... -0.345720  0.122512 -0.618609\n",
       "AGE      0.336697 -0.583271  0.635749  ...  0.230440 -0.248012  0.550824\n",
       "DIS     -0.371149  0.672752 -0.700550  ... -0.218248  0.269588 -0.474187\n",
       "RAD      0.622745 -0.318947  0.579284  ...  0.481114 -0.403437  0.473225\n",
       "TAX      0.582164 -0.306276  0.702541  ...  0.465101 -0.407992  0.525003\n",
       "PTRATIO  0.296443 -0.375349  0.362794  ...  1.000000 -0.169999  0.361428\n",
       "B       -0.304734  0.172134 -0.333391  ... -0.169999  1.000000 -0.324208\n",
       "LSTAT    0.409681 -0.393315  0.578976  ...  0.361428 -0.324208  1.000000\n",
       "\n",
       "[13 rows x 13 columns]"
      ]
     },
     "execution_count": 16,
     "metadata": {
      "tags": []
     },
     "output_type": "execute_result"
    }
   ],
   "source": [
    "X_train.corr()"
   ]
  },
  {
   "cell_type": "code",
   "execution_count": null,
   "metadata": {
    "colab": {
     "base_uri": "https://localhost:8080/",
     "height": 595
    },
    "id": "u_-SoUewg-V6",
    "outputId": "e7aca801-cf27-4100-dded-14efb9d4de91"
   },
   "outputs": [
    {
     "data": {
      "image/png": "[encoded data removed]",
      "text/plain": [
       "<Figure size 864x720 with 2 Axes>"
      ]
     },
     "metadata": {
      "needs_background": "light",
      "tags": []
     },
     "output_type": "display_data"
    }
   ],
   "source": [
    "plt.figure(figsize=(12, 10))\n",
    "sns.heatmap(X_train.corr(), annot=True, cmap=plt.cm.CMRmap_r)\n",
    "plt.show()"
   ]
  },
  {
   "cell_type": "code",
   "execution_count": null,
   "metadata": {
    "colab": {
     "base_uri": "https://localhost:8080/",
     "height": 132
    },
    "id": "TR8VRA2ahHCM",
    "outputId": "8fac8fc2-8185-4210-c5dd-9342a341bc66"
   },
   "outputs": [
    {
     "ename": "SyntaxError",
     "evalue": "ignored",
     "output_type": "error",
     "traceback": [
      "\u001b[0;36m  File \u001b[0;32m\"<ipython-input-18-d29c27974923>\"\u001b[0;36m, line \u001b[0;32m2\u001b[0m\n\u001b[0;31m    \u001b[0m\n\u001b[0m    ^\u001b[0m\n\u001b[0;31mSyntaxError\u001b[0m\u001b[0;31m:\u001b[0m unexpected EOF while parsing\n"
     ]
    }
   ],
   "source": [
    "def corr_ft(dataset, threshold):\n",
    "  \n"
   ]
  },
  {
   "cell_type": "code",
   "execution_count": null,
   "metadata": {
    "id": "_43M_zWcFJcZ"
   },
   "outputs": [],
   "source": [
    "# pearson's correlation feature selection for numeric input and numeric output\n",
    "from sklearn.datasets import make_regression\n",
    "from sklearn.feature_selection import SelectKBest\n",
    "from sklearn.feature_selection import f_regression"
   ]
  },
  {
   "cell_type": "code",
   "execution_count": null,
   "metadata": {
    "id": "6KqZnsQZA24B"
   },
   "outputs": [],
   "source": [
    "# generate dataset\n",
    "X, y = make_regression(n_samples=100, n_features=100, n_informative=10)"
   ]
  },
  {
   "cell_type": "code",
   "execution_count": null,
   "metadata": {
    "colab": {
     "base_uri": "https://localhost:8080/"
    },
    "id": "dFWEp9o4BsF4",
    "outputId": "9cb89bc3-810e-442c-9e1c-f50ee182b634"
   },
   "outputs": [
    {
     "data": {
      "text/plain": [
       "(100, 100)"
      ]
     },
     "execution_count": 14,
     "metadata": {
      "tags": []
     },
     "output_type": "execute_result"
    }
   ],
   "source": [
    "X.shape"
   ]
  },
  {
   "cell_type": "code",
   "execution_count": null,
   "metadata": {
    "colab": {
     "base_uri": "https://localhost:8080/"
    },
    "id": "OvIjK4qEA38H",
    "outputId": "473ef4e6-2659-4b0e-c687-35345fc682b0"
   },
   "outputs": [
    {
     "data": {
      "text/plain": [
       "SelectKBest(k=10, score_func=<function f_regression at 0x7fb45032bc20>)"
      ]
     },
     "execution_count": 8,
     "metadata": {
      "tags": []
     },
     "output_type": "execute_result"
    }
   ],
   "source": [
    "# define feature selection\n",
    "fs = SelectKBest(score_func=f_regression, k=10)\n",
    "fs"
   ]
  },
  {
   "cell_type": "code",
   "execution_count": null,
   "metadata": {
    "colab": {
     "base_uri": "https://localhost:8080/"
    },
    "id": "FR8-JwUEA4O_",
    "outputId": "a106c11d-a0a0-4533-fae8-b0d6fe91d4d4"
   },
   "outputs": [
    {
     "name": "stdout",
     "output_type": "stream",
     "text": [
      "(100, 10)\n"
     ]
    }
   ],
   "source": [
    "# apply feature selection\n",
    "X_selected = fs.fit_transform(X, y)\n",
    "print(X_selected.shape)"
   ]
  },
  {
   "cell_type": "code",
   "execution_count": null,
   "metadata": {
    "colab": {
     "base_uri": "https://localhost:8080/"
    },
    "id": "EQQajfdMBWU3",
    "outputId": "fea0d8bd-f2e1-4f67-83c2-d6f55b4fc286"
   },
   "outputs": [
    {
     "data": {
      "text/plain": [
       "{'k': 10,\n",
       " 'score_func': <function sklearn.feature_selection._univariate_selection.f_regression>}"
      ]
     },
     "execution_count": 11,
     "metadata": {
      "tags": []
     },
     "output_type": "execute_result"
    }
   ],
   "source": [
    "fs.get_params()"
   ]
  },
  {
   "cell_type": "code",
   "execution_count": null,
   "metadata": {
    "colab": {
     "base_uri": "https://localhost:8080/"
    },
    "id": "xMe4bgc1BYh_",
    "outputId": "f0b5999d-337f-494b-98a3-e643a3534de9"
   },
   "outputs": [
    {
     "data": {
      "text/plain": [
       "array([False, False, False, False, False, False, False,  True, False,\n",
       "       False, False, False, False, False, False, False, False, False,\n",
       "       False, False,  True, False, False, False, False, False, False,\n",
       "        True, False, False, False, False, False, False,  True, False,\n",
       "       False, False, False, False, False,  True, False, False, False,\n",
       "       False, False,  True, False, False, False, False, False, False,\n",
       "       False, False, False,  True, False, False, False, False, False,\n",
       "       False, False, False, False, False, False, False, False, False,\n",
       "       False, False, False, False, False,  True, False, False, False,\n",
       "       False, False, False, False,  True,  True, False, False, False,\n",
       "       False, False, False, False, False, False, False, False, False,\n",
       "       False])"
      ]
     },
     "execution_count": 12,
     "metadata": {
      "tags": []
     },
     "output_type": "execute_result"
    }
   ],
   "source": [
    "fs.get_support()"
   ]
  },
  {
   "cell_type": "code",
   "execution_count": null,
   "metadata": {
    "colab": {
     "base_uri": "https://localhost:8080/"
    },
    "id": "Fp_kjWaQBnX4",
    "outputId": "2925bf05-8d3c-472e-ef54-897376db8c78"
   },
   "outputs": [
    {
     "name": "stdout",
     "output_type": "stream",
     "text": [
      "(100, 2)\n"
     ]
    }
   ],
   "source": [
    "# ANOVA feature selection for numeric input and categorical output\n",
    "from sklearn.datasets import make_classification\n",
    "from sklearn.feature_selection import SelectKBest\n",
    "from sklearn.feature_selection import f_classif\n",
    "# generate dataset\n",
    "X, y = make_classification(n_samples=100, n_features=20, n_informative=2)\n",
    "# define feature selection\n",
    "fs = SelectKBest(score_func=f_classif, k=2)\n",
    "# apply feature selection\n",
    "X_selected = fs.fit_transform(X, y)\n",
    "print(X_selected.shape)"
   ]
  },
  {
   "cell_type": "markdown",
   "metadata": {
    "id": "5S-NRQFcjnyo"
   },
   "source": [
    "# 3) Mutual Information in Classification"
   ]
  }
 ],
 "metadata": {
  "colab": {
   "name": "Feature Selection.ipynb",
   "provenance": []
  },
  "kernelspec": {
   "display_name": "Python 3",
   "language": "python",
   "name": "python3"
  },
  "language_info": {
   "codemirror_mode": {
    "name": "ipython",
    "version": 3
   },
   "file_extension": ".py",
   "mimetype": "text/x-python",
   "name": "python",
   "nbconvert_exporter": "python",
   "pygments_lexer": "ipython3",
   "version": "3.7.6"
  }
 },
 "nbformat": 4,
 "nbformat_minor": 1
}
