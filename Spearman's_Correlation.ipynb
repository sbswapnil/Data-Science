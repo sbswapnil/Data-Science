{
  "nbformat": 4,
  "nbformat_minor": 0,
  "metadata": {
    "colab": {
      "name": "Spearman's Correlation.ipynb",
      "provenance": [],
      "collapsed_sections": [],
      "authorship_tag": "ABX9TyOGD+V+bkPSDxO1jv9EPoue",
      "include_colab_link": true
    },
    "kernelspec": {
      "name": "python3",
      "display_name": "Python 3"
    }
  },
  "cells": [
    {
      "cell_type": "markdown",
      "metadata": {
        "id": "view-in-github",
        "colab_type": "text"
      },
      "source": [
        "<a href=\"https://colab.research.google.com/github/sbswapnil/Data-Science/blob/main/Spearman's_Correlation.ipynb\" target=\"_parent\"><img src=\"https://colab.research.google.com/assets/colab-badge.svg\" alt=\"Open In Colab\"/></a>"
      ]
    },
    {
      "cell_type": "markdown",
      "metadata": {
        "id": "ktjcdX_N8WlG"
      },
      "source": [
        "# Spearman's Correlation\r\n",
        "\r\n",
        "*  Spearman's Correlation is the feature selection method.\r\n",
        "*  Spearman's correlation determines the strength and direction of the monotonic relationship between your two variables.\r\n"
      ]
    },
    {
      "cell_type": "markdown",
      "metadata": {
        "id": "2EWTEj3V8d3C"
      },
      "source": [
        "## **What is a Monotonic Relationship?**\r\n",
        "\r\n",
        "*  when the value of one variable increases the values of another variable is also increases or vice versa but not in a linear manner."
      ]
    },
    {
      "cell_type": "code",
      "metadata": {
        "id": "aG4CWfdE88Q3"
      },
      "source": [
        "# importing the libraries\r\n",
        "\r\n",
        "import numpy as np\r\n",
        "import pandas as pd\r\n",
        "import matplotlib.pyplot as plt\r\n"
      ],
      "execution_count": 2,
      "outputs": []
    },
    {
      "cell_type": "markdown",
      "metadata": {
        "id": "JR1ZR3Uty2yQ"
      },
      "source": [
        "# Data"
      ]
    },
    {
      "cell_type": "code",
      "metadata": {
        "id": "wE_v7v9m8wyg"
      },
      "source": [
        "# creating data manually\r\n",
        "\r\n",
        "x1 = np.array([1, 1.5, 2, 2.5, 3, 3.5, 4, 4.5, 5, 5.5])\r\n",
        "y1 = x1**3\r\n",
        "x2 = x1[: :-1]\r\n",
        "y2 = x1**3"
      ],
      "execution_count": 3,
      "outputs": []
    },
    {
      "cell_type": "markdown",
      "metadata": {
        "id": "17OOGWFmyzvR"
      },
      "source": [
        "# Plots"
      ]
    },
    {
      "cell_type": "code",
      "metadata": {
        "colab": {
          "base_uri": "https://localhost:8080/",
          "height": 338
        },
        "id": "n6M2bcy39OvB",
        "outputId": "dd8d6465-9ad9-4733-f000-b3defee0ead7"
      },
      "source": [
        "# displaying scatter plot for understanding ot monotonic relation between the two variables.\r\n",
        "\r\n",
        "plt.figure(figsize=(15,5))\r\n",
        "\r\n",
        "ax1 = plt.subplot(1,3,1)\r\n",
        "ax1.scatter(x1, y1)\r\n",
        "ax1.text(3,150, 'monotonic')\r\n",
        "\r\n",
        "\r\n",
        "ax2 = plt.subplot(1,3,2)\r\n",
        "ax2.scatter(x2, y2)\r\n",
        "ax2.text(3,150, 'monotonic')\r\n",
        "\r\n",
        "ax3 = plt.subplot(1,3,3)\r\n",
        "ax3.scatter(x2, np.cos(x1))\r\n",
        "ax3.text(2.5,0.55, 'non monotonic')\r\n"
      ],
      "execution_count": 4,
      "outputs": [
        {
          "output_type": "execute_result",
          "data": {
            "text/plain": [
              "Text(2.5, 0.55, 'non monotonic')"
            ]
          },
          "metadata": {
            "tags": []
          },
          "execution_count": 4
        },
        {
          "output_type": "display_data",
          "data": {
            "image/png": "[encoded data removed]",
            "text/plain": [
              "<Figure size 1080x360 with 3 Axes>"
            ]
          },
          "metadata": {
            "tags": [],
            "needs_background": "light"
          }
        }
      ]
    },
    {
      "cell_type": "markdown",
      "metadata": {
        "id": "8KVJRY0D9SsJ"
      },
      "source": [
        "# Mathematics Behind Spearman's Correlation\r\n",
        "\r\n",
        "*  Spearman's Correlation is based on the rank of variables.\r\n",
        "*  we need to set the rank for each variable.\r\n",
        "Consider the following example.\r\n"
      ]
    },
    {
      "cell_type": "markdown",
      "metadata": {
        "id": "ivtSGbc1Dlfa"
      },
      "source": [
        "# Example:\r\n",
        "*  we have a student dataset that contains marks of the students."
      ]
    },
    {
      "cell_type": "code",
      "metadata": {
        "id": "DEkUlnt8DqNQ"
      },
      "source": [
        "english = np.array([67,89,88,90,95])\r\n",
        "maths = np.array([77,86,98,95,87])\r\n",
        "\r\n",
        "d = {'english':english, 'maths':maths}\r\n"
      ],
      "execution_count": 5,
      "outputs": []
    },
    {
      "cell_type": "code",
      "metadata": {
        "colab": {
          "base_uri": "https://localhost:8080/",
          "height": 195
        },
        "id": "187uCMkgEHfa",
        "outputId": "77300c4d-b0fc-4cae-a155-7e048b6df9ca"
      },
      "source": [
        "data = pd.DataFrame(d)\r\n",
        "data"
      ],
      "execution_count": 6,
      "outputs": [
        {
          "output_type": "execute_result",
          "data": {
            "text/html": [
              "<div>\n",
              "<style scoped>\n",
              "    .dataframe tbody tr th:only-of-type {\n",
              "        vertical-align: middle;\n",
              "    }\n",
              "\n",
              "    .dataframe tbody tr th {\n",
              "        vertical-align: top;\n",
              "    }\n",
              "\n",
              "    .dataframe thead th {\n",
              "        text-align: right;\n",
              "    }\n",
              "</style>\n",
              "<table border=\"1\" class=\"dataframe\">\n",
              "  <thead>\n",
              "    <tr style=\"text-align: right;\">\n",
              "      <th></th>\n",
              "      <th>english</th>\n",
              "      <th>maths</th>\n",
              "    </tr>\n",
              "  </thead>\n",
              "  <tbody>\n",
              "    <tr>\n",
              "      <th>0</th>\n",
              "      <td>67</td>\n",
              "      <td>77</td>\n",
              "    </tr>\n",
              "    <tr>\n",
              "      <th>1</th>\n",
              "      <td>89</td>\n",
              "      <td>86</td>\n",
              "    </tr>\n",
              "    <tr>\n",
              "      <th>2</th>\n",
              "      <td>88</td>\n",
              "      <td>98</td>\n",
              "    </tr>\n",
              "    <tr>\n",
              "      <th>3</th>\n",
              "      <td>90</td>\n",
              "      <td>95</td>\n",
              "    </tr>\n",
              "    <tr>\n",
              "      <th>4</th>\n",
              "      <td>95</td>\n",
              "      <td>87</td>\n",
              "    </tr>\n",
              "  </tbody>\n",
              "</table>\n",
              "</div>"
            ],
            "text/plain": [
              "   english  maths\n",
              "0       67     77\n",
              "1       89     86\n",
              "2       88     98\n",
              "3       90     95\n",
              "4       95     87"
            ]
          },
          "metadata": {
            "tags": []
          },
          "execution_count": 6
        }
      ]
    },
    {
      "cell_type": "markdown",
      "metadata": {
        "id": "VBHVNXlOzCyY"
      },
      "source": [
        "*  creating rank columns for both english and maths"
      ]
    },
    {
      "cell_type": "code",
      "metadata": {
        "id": "F2B8kHn4Em-Q"
      },
      "source": [
        "english_rank = np.array([1,3,2,4,5])\r\n",
        "maths_rank = np.array([1,2,5,4,3])"
      ],
      "execution_count": 9,
      "outputs": []
    },
    {
      "cell_type": "code",
      "metadata": {
        "colab": {
          "base_uri": "https://localhost:8080/",
          "height": 195
        },
        "id": "IKiDecmyFJNY",
        "outputId": "0f433034-9b05-461a-dae2-2a52e3088136"
      },
      "source": [
        "data['english_rank'] = english_rank\r\n",
        "data['maths_rank'] = maths_rank\r\n",
        "data"
      ],
      "execution_count": 10,
      "outputs": [
        {
          "output_type": "execute_result",
          "data": {
            "text/html": [
              "<div>\n",
              "<style scoped>\n",
              "    .dataframe tbody tr th:only-of-type {\n",
              "        vertical-align: middle;\n",
              "    }\n",
              "\n",
              "    .dataframe tbody tr th {\n",
              "        vertical-align: top;\n",
              "    }\n",
              "\n",
              "    .dataframe thead th {\n",
              "        text-align: right;\n",
              "    }\n",
              "</style>\n",
              "<table border=\"1\" class=\"dataframe\">\n",
              "  <thead>\n",
              "    <tr style=\"text-align: right;\">\n",
              "      <th></th>\n",
              "      <th>english</th>\n",
              "      <th>maths</th>\n",
              "      <th>english_rank</th>\n",
              "      <th>maths_rank</th>\n",
              "    </tr>\n",
              "  </thead>\n",
              "  <tbody>\n",
              "    <tr>\n",
              "      <th>0</th>\n",
              "      <td>67</td>\n",
              "      <td>77</td>\n",
              "      <td>1</td>\n",
              "      <td>1</td>\n",
              "    </tr>\n",
              "    <tr>\n",
              "      <th>1</th>\n",
              "      <td>89</td>\n",
              "      <td>86</td>\n",
              "      <td>3</td>\n",
              "      <td>2</td>\n",
              "    </tr>\n",
              "    <tr>\n",
              "      <th>2</th>\n",
              "      <td>88</td>\n",
              "      <td>98</td>\n",
              "      <td>2</td>\n",
              "      <td>5</td>\n",
              "    </tr>\n",
              "    <tr>\n",
              "      <th>3</th>\n",
              "      <td>90</td>\n",
              "      <td>95</td>\n",
              "      <td>4</td>\n",
              "      <td>4</td>\n",
              "    </tr>\n",
              "    <tr>\n",
              "      <th>4</th>\n",
              "      <td>95</td>\n",
              "      <td>87</td>\n",
              "      <td>5</td>\n",
              "      <td>3</td>\n",
              "    </tr>\n",
              "  </tbody>\n",
              "</table>\n",
              "</div>"
            ],
            "text/plain": [
              "   english  maths  english_rank  maths_rank\n",
              "0       67     77             1           1\n",
              "1       89     86             3           2\n",
              "2       88     98             2           5\n",
              "3       90     95             4           4\n",
              "4       95     87             5           3"
            ]
          },
          "metadata": {
            "tags": []
          },
          "execution_count": 10
        }
      ]
    },
    {
      "cell_type": "markdown",
      "metadata": {
        "id": "nDZoMS3WFPWf"
      },
      "source": [
        "# Formulas\r\n",
        "\r\n",
        "1. This formula use only when if there are no duplicate observations available.\r\n",
        "\r\n",
        ">$ \\rho = 1 - \\frac{\\sigma\\sum{d_i^2}}{n(n^2-1)}$ \r\n",
        "\r\n",
        "2. This formula use only when if there  are duplicate observations available.\r\n",
        "\r\n",
        ">$ \\rho = \\frac{\\sum(x_i-\\overline{x})(y_i-\\overline{y})}{\\sqrt{\\sum(x_i-\\overline{x})^2(y_i-\\overline{y})^2}}$"
      ]
    },
    {
      "cell_type": "code",
      "metadata": {
        "id": "5i2GyRG7u0O8"
      },
      "source": [
        "data['d'] = data['english_rank'] -data['maths_rank']\r\n",
        "data['d2'] = data['d']**2\r\n"
      ],
      "execution_count": 11,
      "outputs": []
    },
    {
      "cell_type": "code",
      "metadata": {
        "colab": {
          "base_uri": "https://localhost:8080/",
          "height": 195
        },
        "id": "hkP9zPodvAVk",
        "outputId": "b8a70083-4a46-49e6-b8d9-e69dbf49cb6f"
      },
      "source": [
        "data"
      ],
      "execution_count": 12,
      "outputs": [
        {
          "output_type": "execute_result",
          "data": {
            "text/html": [
              "<div>\n",
              "<style scoped>\n",
              "    .dataframe tbody tr th:only-of-type {\n",
              "        vertical-align: middle;\n",
              "    }\n",
              "\n",
              "    .dataframe tbody tr th {\n",
              "        vertical-align: top;\n",
              "    }\n",
              "\n",
              "    .dataframe thead th {\n",
              "        text-align: right;\n",
              "    }\n",
              "</style>\n",
              "<table border=\"1\" class=\"dataframe\">\n",
              "  <thead>\n",
              "    <tr style=\"text-align: right;\">\n",
              "      <th></th>\n",
              "      <th>english</th>\n",
              "      <th>maths</th>\n",
              "      <th>english_rank</th>\n",
              "      <th>maths_rank</th>\n",
              "      <th>d</th>\n",
              "      <th>d2</th>\n",
              "    </tr>\n",
              "  </thead>\n",
              "  <tbody>\n",
              "    <tr>\n",
              "      <th>0</th>\n",
              "      <td>67</td>\n",
              "      <td>77</td>\n",
              "      <td>1</td>\n",
              "      <td>1</td>\n",
              "      <td>0</td>\n",
              "      <td>0</td>\n",
              "    </tr>\n",
              "    <tr>\n",
              "      <th>1</th>\n",
              "      <td>89</td>\n",
              "      <td>86</td>\n",
              "      <td>3</td>\n",
              "      <td>2</td>\n",
              "      <td>1</td>\n",
              "      <td>1</td>\n",
              "    </tr>\n",
              "    <tr>\n",
              "      <th>2</th>\n",
              "      <td>88</td>\n",
              "      <td>98</td>\n",
              "      <td>2</td>\n",
              "      <td>5</td>\n",
              "      <td>-3</td>\n",
              "      <td>9</td>\n",
              "    </tr>\n",
              "    <tr>\n",
              "      <th>3</th>\n",
              "      <td>90</td>\n",
              "      <td>95</td>\n",
              "      <td>4</td>\n",
              "      <td>4</td>\n",
              "      <td>0</td>\n",
              "      <td>0</td>\n",
              "    </tr>\n",
              "    <tr>\n",
              "      <th>4</th>\n",
              "      <td>95</td>\n",
              "      <td>87</td>\n",
              "      <td>5</td>\n",
              "      <td>3</td>\n",
              "      <td>2</td>\n",
              "      <td>4</td>\n",
              "    </tr>\n",
              "  </tbody>\n",
              "</table>\n",
              "</div>"
            ],
            "text/plain": [
              "   english  maths  english_rank  maths_rank  d  d2\n",
              "0       67     77             1           1  0   0\n",
              "1       89     86             3           2  1   1\n",
              "2       88     98             2           5 -3   9\n",
              "3       90     95             4           4  0   0\n",
              "4       95     87             5           3  2   4"
            ]
          },
          "metadata": {
            "tags": []
          },
          "execution_count": 12
        }
      ]
    },
    {
      "cell_type": "code",
      "metadata": {
        "id": "mVlf2-ThvMbI"
      },
      "source": [
        "sc = 1 - (6*data['d2'].sum() / ( len(data.index) * ( len(data.index)**2  -1)) )"
      ],
      "execution_count": 14,
      "outputs": []
    },
    {
      "cell_type": "code",
      "metadata": {
        "colab": {
          "base_uri": "https://localhost:8080/"
        },
        "id": "Ic672r8zvPoR",
        "outputId": "014fcac3-ebfa-459b-a680-f6b50bfb77c0"
      },
      "source": [
        "# sc gives the relationship between ranks of two individual features.\r\n",
        "sc"
      ],
      "execution_count": 15,
      "outputs": [
        {
          "output_type": "execute_result",
          "data": {
            "text/plain": [
              "0.30000000000000004"
            ]
          },
          "metadata": {
            "tags": []
          },
          "execution_count": 15
        }
      ]
    },
    {
      "cell_type": "markdown",
      "metadata": {
        "id": "t3Qmj-pP408S"
      },
      "source": [
        "# Implementation using scipy"
      ]
    },
    {
      "cell_type": "code",
      "metadata": {
        "id": "Gj_RSoglv2VR"
      },
      "source": [
        "# f_classif is used to find speraman's correlation.\r\n",
        "# SelectKBest is used to select k best features.\r\n",
        "\r\n",
        "from sklearn.feature_selection import SelectKBest\r\n",
        "from scipy.stats import spearmanr"
      ],
      "execution_count": 39,
      "outputs": []
    },
    {
      "cell_type": "code",
      "metadata": {
        "id": "XgZc9PCs16lG"
      },
      "source": [
        "skb = SelectKBest(score_func=spearmanr, k=1)"
      ],
      "execution_count": 40,
      "outputs": []
    },
    {
      "cell_type": "code",
      "metadata": {
        "id": "eSGZSz382TI3"
      },
      "source": [
        "X = data[['english']]\r\n",
        "y = data['maths']\r\n"
      ],
      "execution_count": 41,
      "outputs": []
    },
    {
      "cell_type": "code",
      "metadata": {
        "colab": {
          "base_uri": "https://localhost:8080/"
        },
        "id": "sEOWr5_n2fV_",
        "outputId": "c3c0eeb4-7667-44f9-fb1c-0e4bb4e19308"
      },
      "source": [
        "skb.fit(X, y)"
      ],
      "execution_count": 42,
      "outputs": [
        {
          "output_type": "execute_result",
          "data": {
            "text/plain": [
              "SelectKBest(k=1, score_func=<function spearmanr at 0x7f3d563c15f0>)"
            ]
          },
          "metadata": {
            "tags": []
          },
          "execution_count": 42
        }
      ]
    },
    {
      "cell_type": "code",
      "metadata": {
        "colab": {
          "base_uri": "https://localhost:8080/"
        },
        "id": "NzSPB7kR2u5v",
        "outputId": "e5d88bf2-4f92-40d6-b290-392a4eea8c38"
      },
      "source": [
        "skb.scores_"
      ],
      "execution_count": 43,
      "outputs": [
        {
          "output_type": "execute_result",
          "data": {
            "text/plain": [
              "array(0.3)"
            ]
          },
          "metadata": {
            "tags": []
          },
          "execution_count": 43
        }
      ]
    }
  ]
}